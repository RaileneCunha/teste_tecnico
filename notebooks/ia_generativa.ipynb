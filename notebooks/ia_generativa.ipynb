{
 "cells": [
  {
   "cell_type": "markdown",
   "metadata": {},
   "source": [
    "## Nível 3 - Integração com IA Generativa"
   ]
  },
  {
   "cell_type": "markdown",
   "metadata": {},
   "source": [
    "##### 1. Carregamento dos resultados"
   ]
  },
  {
   "cell_type": "code",
   "execution_count": 13,
   "metadata": {},
   "outputs": [],
   "source": [
    "# Import de bibliotecas\n",
    "import json\n",
    "from openai import OpenAI  \n",
    "import os"
   ]
  },
  {
   "cell_type": "code",
   "execution_count": 18,
   "metadata": {},
   "outputs": [
    {
     "name": "stdout",
     "output_type": "stream",
     "text": [
      "Resultados do Modelo Carregados:\n",
      "{\n",
      "    \"best_params\": {\n",
      "        \"max_depth\": 10,\n",
      "        \"min_samples_split\": 10,\n",
      "        \"n_estimators\": 300\n",
      "    },\n",
      "    \"metrics\": {\n",
      "        \"validation\": {\n",
      "            \"MSE\": 655896.515391981,\n",
      "            \"RMSE\": 809.8743824766783,\n",
      "            \"R2\": 0.027788828805241694\n",
      "        },\n",
      "        \"test\": {\n",
      "            \"MSE\": 365272.3220840153,\n",
      "            \"RMSE\": 604.3776320182733,\n",
      "            \"R2\": 0.038531651199513184\n",
      "        }\n",
      "    },\n",
      "    \"feature_importance\": [\n",
      "        {\n",
      "            \"Feature\": \"Quantity\",\n",
      "            \"Importance\": 0.3637771640963448\n",
      "        },\n",
      "        {\n",
      "            \"Feature\": \"Month\",\n",
      "            \"Importance\": 0.2529895223786244\n",
      "        },\n",
      "        {\n",
      "            \"Feature\": \"Discount\",\n",
      "            \"Importance\": 0.23262931415009325\n",
      "        },\n",
      "        {\n",
      "            \"Feature\": \"Year\",\n",
      "            \"Importance\": 0.1506039993749376\n",
      "        }\n",
      "    ]\n",
      "}\n"
     ]
    }
   ],
   "source": [
    "# Carregar o arquivo JSON gerado pelo arquivo ml_model.ipynb\n",
    "with open('ml_results.json', 'r') as f:\n",
    "    ml_results = json.load(f)\n",
    "\n",
    "# Exibir os resultados carregados\n",
    "print(\"Resultados do Modelo Carregados:\")\n",
    "print(json.dumps(ml_results, indent=4))"
   ]
  },
  {
   "cell_type": "markdown",
   "metadata": {},
   "source": [
    "##### 2. Configuração da API da OpenAI"
   ]
  },
  {
   "cell_type": "code",
   "execution_count": 19,
   "metadata": {},
   "outputs": [],
   "source": [
    "# Chave da API da OpenAI\n",
    "api_key = input(\"Por gentileza, digite sua chave da API da OpenAI:\")\n",
    "\n",
    "# Configurar o cliente da OpenAI\n",
    "client = OpenAI(api_key=api_key)"
   ]
  },
  {
   "cell_type": "markdown",
   "metadata": {},
   "source": [
    "##### 3. Geração de Insights com IA Generativa"
   ]
  },
  {
   "cell_type": "code",
   "execution_count": 25,
   "metadata": {},
   "outputs": [
    {
     "name": "stdout",
     "output_type": "stream",
     "text": [
      "\n",
      "Insights Gerados pela IA Generativa:\n",
      "1. A promoção de descontos é uma estratégia eficaz para aumentar as vendas, já que a variável de desconto tem uma grande influência nas vendas. Portanto, é importante continuar oferecendo descontos atraentes para atrair mais clientes e aumentar as vendas.\n",
      "\n",
      "2. O mês do ano também tem um impacto significativo nas vendas, com uma influência maior do que o ano. Isso pode indicar que certos meses são mais propícios para as vendas, e é importante identificar esses padrões para se planejar melhor e aproveitar ao máximo esses períodos.\n",
      "\n",
      "3. A quantidade de produtos vendidos tem a maior importância entre todas as features. Isso mostra que aumentar a quantidade de produtos vendidos é a chave para aumentar as vendas. Portanto, é importante ter um controle eficiente do estoque e garantir que haja produtos suficientes disponíveis para atender à demanda.\n",
      "\n",
      "4. O modelo também sugere que a profundidade máxima de 10 e o número mínimo de amostras para dividir um nó de 10 são os hiperparâmetros ideais para prever as vendas. Portanto, é importante ajustar esses parâmetros ao treinar o modelo para obter resultados mais precisos.\n",
      "\n",
      "5. Apesar de o modelo ter um desempenho relativamente baixo, com um R² de apenas 0,03, ainda é possível obter insights valiosos sobre as vendas. Isso mostra que há outros fatores que influenciam as vendas que não foram incluídos no modelo, e é importante considerá-los ao tomar decisões de negócios.\n",
      "\n",
      "6. É importante continuar coletando dados e atualizando o modelo regularmente para melhorar sua precisão e garantir que ele esteja refletindo as tendências e comportamentos atuais dos clientes.\n",
      "\n",
      "7. Com base na importância das features, pode-se notar que o desempenho de vendas é uma combinação de vários fatores, como descontos, sazonalidade e quantidade de produtos vendidos. Portanto, é importante ter uma abordagem holística ao planejar estratégias de vendas e considerar todos esses fatores em conjunto.\n"
     ]
    }
   ],
   "source": [
    "# Criar um prompt com base nos resultados do modelo\n",
    "prompt = f\"\"\"\n",
    "Com base nos resultados do modelo de previsão de vendas, aqui estão os principais pontos:\n",
    "- Melhores hiperparâmetros: {ml_results['best_params']}\n",
    "- Métricas de validação:\n",
    "  - MSE: {ml_results['metrics']['validation']['MSE']:.2f}\n",
    "  - RMSE: {ml_results['metrics']['validation']['RMSE']:.2f}\n",
    "  - R²: {ml_results['metrics']['validation']['R2']:.2f}\n",
    "- Métricas de teste:\n",
    "  - MSE: {ml_results['metrics']['test']['MSE']:.2f}\n",
    "  - RMSE: {ml_results['metrics']['test']['RMSE']:.2f}\n",
    "  - R²: {ml_results['metrics']['test']['R2']:.2f}\n",
    "- Importância das features:\n",
    "  - {ml_results['feature_importance'][0]['Feature']}: {ml_results['feature_importance'][0]['Importance']:.2f}\n",
    " - {ml_results['feature_importance'][1]['Feature']}: {ml_results['feature_importance'][1]['Importance']:.2f}\n",
    "  - {ml_results['feature_importance'][2]['Feature']}: {ml_results['feature_importance'][2]['Importance']:.2f}\n",
    "  - {ml_results['feature_importance'][3]['Feature']}: {ml_results['feature_importance'][3]['Importance']:.2f}\n",
    "\n",
    "Com base nesses dados, gere insights em linguagem natural que possam ser úteis para o negócio.\n",
    "\"\"\"\n",
    "\n",
    "response = client.completions.create(\n",
    "    model=\"gpt-3.5-turbo-instruct\",  \n",
    "    prompt=prompt,\n",
    "    max_tokens=1000,  # Limite de tokens para a resposta\n",
    "    temperature=0.7  # Controla a criatividade da resposta\n",
    ")\n",
    "\n",
    "# Exibir a resposta gerada\n",
    "print(\"\\nInsights Gerados pela IA Generativa:\")\n",
    "print(response.choices[0].text.strip())"
   ]
  }
 ],
 "metadata": {
  "kernelspec": {
   "display_name": "venv",
   "language": "python",
   "name": "python3"
  },
  "language_info": {
   "codemirror_mode": {
    "name": "ipython",
    "version": 3
   },
   "file_extension": ".py",
   "mimetype": "text/x-python",
   "name": "python",
   "nbconvert_exporter": "python",
   "pygments_lexer": "ipython3",
   "version": "3.13.2"
  }
 },
 "nbformat": 4,
 "nbformat_minor": 2
}
